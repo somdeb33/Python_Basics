{
  "nbformat": 4,
  "nbformat_minor": 0,
  "metadata": {
    "colab": {
      "provenance": []
    },
    "kernelspec": {
      "name": "python3",
      "display_name": "Python 3"
    },
    "language_info": {
      "name": "python"
    }
  },
  "cells": [
    {
      "cell_type": "code",
      "execution_count": null,
      "metadata": {
        "id": "GU5n0D4fTFB1"
      },
      "outputs": [],
      "source": []
    },
    {
      "cell_type": "markdown",
      "source": [
        "**Assignment**"
      ],
      "metadata": {
        "id": "DmkrbFUpTFsL"
      }
    },
    {
      "cell_type": "markdown",
      "source": [
        "1.What is Python, and why is it popular?\n",
        "  >Python is a high-level, interpreted, object-oriented programming language known for its readability and ease of use.\n",
        "\n",
        "  Python is popular for:\n",
        "\n",
        "  \n",
        "    1. Easy to read and understand :Python has clean, English-like syntax    that makes it easy to write and read code.\n",
        "    2. Interpreted Language :Python code runs line-by-line, which simplifies debugging and testing.\n",
        "    3. Free and open Source : Python is freely available for use, and its source code can be modified and shared.\n",
        "    4. Huge and Active Community: Millions of users contribute tutorials, tools, and support for learners and developers.\n",
        "\n",
        "\n"
      ],
      "metadata": {
        "id": "qYqKajnpTP5m"
      }
    },
    {
      "cell_type": "markdown",
      "source": [
        "2.What is an interpreter in Python ?\n",
        "\n",
        "\n",
        "An interpreter in Python is a program that reads and executes code line-by-line rather than compiling the entire code at once."
      ],
      "metadata": {
        "id": "nBpWl76IT4WG"
      }
    },
    {
      "cell_type": "markdown",
      "source": [],
      "metadata": {
        "id": "EfsysLMOUKCm"
      }
    },
    {
      "cell_type": "markdown",
      "source": [
        "3.What are pre-defined keywords in Python ?\n",
        "\n",
        "Pre-defined keywords in Python are reserved words that have special meaning in the language. You cannot use them as variable names, function names, or identifiers.\n",
        "\n",
        "Examples : if, else, elif, while, for, break, continue"
      ],
      "metadata": {
        "id": "cm-_CIr7UL3m"
      }
    },
    {
      "cell_type": "markdown",
      "source": [
        "4.Can keywords be used as variable names ?\n",
        "\n",
        "No, we cannot use keywords as variable names in Python because Python keywords are reserved words that have special meanings in the language syntax\n"
      ],
      "metadata": {
        "id": "k_auF20eUd0j"
      }
    },
    {
      "cell_type": "markdown",
      "source": [
        "5.What is mutability in Python ?\n",
        "\n",
        "Mutability in Python refers to whether an object’s value can be changed after it is created.\n",
        "\n",
        "Example : list, dict, set"
      ],
      "metadata": {
        "id": "WK3cyt0AVCl_"
      }
    },
    {
      "cell_type": "markdown",
      "source": [
        "6.Why are lists mutable, but tuples are immutable ?\n",
        "\n",
        "Lists are designed to be dynamic sequences used when:\n",
        "we need to collect and manipulate data.\n",
        "Items need to be appended, removed, or modified frequently\n",
        "\n",
        "Tuples are intended to be fixed collections of items — often used as:\n",
        "Records or data points.\n",
        "Keys in dictionaries.\n",
        "Ensuring data integrity and safety."
      ],
      "metadata": {
        "id": "yXRHfX_uVPO-"
      }
    },
    {
      "cell_type": "markdown",
      "source": [
        "7.What is the difference between “==” and “is” operators in Python ?\n",
        "\n",
        "== (Equality Operator)\n",
        "Checks if two variables have the same value.\n",
        "It compares the contents of the objects.\n",
        "\n",
        "\n",
        "\n",
        "\n",
        "is (Identity Operator)\n",
        "Checks if two variables point to the same object in memory.\n",
        "It compares the identity of the objects."
      ],
      "metadata": {
        "id": "BgNYyCYNVZJK"
      }
    },
    {
      "cell_type": "markdown",
      "source": [
        "8.What are logical operators in Python ?\n",
        "\n",
        "Logical operators are used to combine multiple conditions and return a boolean result (True or False).\n",
        "\n",
        ">>1.and:\n",
        "This operator returns True only if both conditions are True.\n",
        "\n",
        ">>2.or:\n",
        "This operator returns True if at least one of the conditions is True.\n",
        "\n",
        ">>3.not:\n",
        "This operator inverts the result. If the condition is True, it returns False, and vice versa."
      ],
      "metadata": {
        "id": "_UJtROdrVmvm"
      }
    },
    {
      "cell_type": "markdown",
      "source": [
        "9.What is type casting in Python ?\n",
        "\n",
        "Type casting in Python means converting one data type into another manually using built-in functions.\n",
        "\n",
        ">It’s useful when we want to perform operations between different types, like combining a number and a string, or ensuring the right type in calculations."
      ],
      "metadata": {
        "id": "90mco1IPVwl7"
      }
    },
    {
      "cell_type": "markdown",
      "source": [
        "10.What is the difference between implicit and explicit type casting?\n",
        "\n",
        "The difference between implicit and explicit type casting are :\n",
        "1. Implicit Type Casting\n",
        ">>Automatically done by Python\n",
        "\n",
        ">>Happens when there's no risk of data loss\n",
        "\n",
        ">>Python converts the type behind the scenes\n",
        "\n",
        "\n",
        "2. Explicit Type Casting\n",
        ">>Manually done by the programmer\n",
        "\n",
        ">weu use functions like int(), float(), str() to force a type conversion\n",
        "\n",
        ">>Useful when Python can’t safely or automatically convert the value"
      ],
      "metadata": {
        "id": "qv5LbpfZV0uS"
      }
    },
    {
      "cell_type": "markdown",
      "source": [
        "11.What is the purpose of conditional statements in Python ?\n",
        "\n",
        "Conditional statements in Python are used to execute specific blocks of code only if certain conditions are met. They allow your program to make decisions and perform different actions based on the data or state of the program. The main purpose is to control the flow of execution, making programs more dynamic and responsive to various inputs or situations."
      ],
      "metadata": {
        "id": "wSZaUcFEV5Fb"
      }
    },
    {
      "cell_type": "markdown",
      "source": [
        "12.How does the elif statement work ?\n",
        "\n",
        ">The elif  statement is used to check multiple conditions in a sequence after an initial if statement. It only executes its block if the previous conditions were False and its own condition is True.\n",
        "\n",
        ">Working :\n",
        "\n",
        ">>Python checks the \"if\" condition.\n",
        "\n",
        ">>If \"if\" is False, it checks the elif condition.\n",
        "\n",
        ">>If \"elif\" is True, it runs the elif block.\n",
        "\n",
        ">>If all conditions are False, it runs the \"else\" block (if provided)."
      ],
      "metadata": {
        "id": "vrdoshLDV9Nx"
      }
    },
    {
      "cell_type": "markdown",
      "source": [
        "13.What is the difference between for and while loops?\n",
        "\n",
        "Python provides two main types of loops: for and while. Both are used to repeat code, but they differ in how and when they stop.\n",
        "\n",
        "> \"for\" Loop\n",
        ">>Used when you know beforehand how many times you want to iterate.\n",
        "\n",
        ">>It loops over a sequence like a list, string, tuple, or range.\n",
        "\n",
        ">>Automatically stops when the sequence ends.\n",
        "\n",
        ">\"While\" Loop\n",
        "\n",
        ">>Used when you don't know in advance how many times to loop.\n",
        "\n",
        ">>Keeps running as long as the condition is True.\n",
        "\n",
        ">>You must manually update variables to eventually stop the loop."
      ],
      "metadata": {
        "id": "mFxqHYc8WBTf"
      }
    },
    {
      "cell_type": "markdown",
      "source": [
        "14.Describe a scenario where a while loop is more suitable than a for loop.\n",
        "\n",
        "when we  write a program that asks a user to enter a login id and  password, and we  want to keep asking until they get it right"
      ],
      "metadata": {
        "id": "0YIc_gXyWF1Q"
      }
    },
    {
      "cell_type": "markdown",
      "source": [],
      "metadata": {
        "id": "j3HVQfKqWJ2H"
      }
    },
    {
      "cell_type": "markdown",
      "source": [
        "**PRACTICAL QUESTIONS**"
      ],
      "metadata": {
        "id": "NFsj0hU9bClO"
      }
    },
    {
      "cell_type": "code",
      "source": [
        "#1.  Write a Python program to print \"Hello, World!\"\n",
        "\n",
        "print(\"Hello, World!\")"
      ],
      "metadata": {
        "id": "bUVNu9KPbOL-"
      },
      "execution_count": null,
      "outputs": []
    },
    {
      "cell_type": "code",
      "source": [
        "#2 Write a Python program that displays your name and age\n",
        "\n",
        "name=\"Somdeb\"\n",
        "age=25\n",
        "print(f\"My name is {name} and age is {age}\")"
      ],
      "metadata": {
        "id": "pCvHgunebVO0"
      },
      "execution_count": null,
      "outputs": []
    },
    {
      "cell_type": "code",
      "source": [
        "#3.  Write code to print all the pre-defined keywords in Python using the keyword library\n",
        "\n",
        "import keyword\n",
        "keywords = keyword.kwlist\n",
        "print(\"List of Python keywords:\")\n",
        "for kw in keywords:\n",
        "    print(kw)"
      ],
      "metadata": {
        "id": "5brLSVtMbu8Y"
      },
      "execution_count": null,
      "outputs": []
    },
    {
      "cell_type": "code",
      "source": [
        "#4. Write a program that checks if a given word is a Python keyword.\n",
        "\n",
        "import keyword\n",
        "word=input(\"Enter the word to check if it's a python keyword\")\n",
        "list_keywords=keyword.kwlist\n",
        "if word in list_keywords:\n",
        "  print(\"It is a Python Keyword\")\n",
        "else:\n",
        "  print(\"It is not a Python keyword\")"
      ],
      "metadata": {
        "id": "y41of19ncSid"
      },
      "execution_count": null,
      "outputs": []
    },
    {
      "cell_type": "code",
      "source": [
        "#5. Create a list and tuple in Python, and demonstrate how attempting to change an element works differently for each.\n",
        "\n",
        "my_list=[10,20,30,40]\n",
        "print(\"original list: \",my_list)\n",
        "#changing an element in list\n",
        "my_list[2]=50\n",
        "print(\"list after changing an element :\",my_list)\n",
        "\n",
        "print()\n",
        "\n",
        "my_tuple=(10,20,30,40,50,60)\n",
        "print(\"original tuple: \",my_tuple)\n",
        "#changing an element in tuple\n",
        "\n",
        "my_tuple[4]=70\n",
        "print(\"Tuple after changing an element :\",my_tuple)"
      ],
      "metadata": {
        "id": "SvLOjwj_dLNE"
      },
      "execution_count": null,
      "outputs": []
    },
    {
      "cell_type": "code",
      "source": [
        "#6. Write a function to demonstrate the behavior of mutable and immutable arguments.\n",
        "\n",
        "def mutable():\n",
        "  my_lst=[1,2,6,4]#list\n",
        "  print(\"original list: \",my_lst)\n",
        "  #changing an element in list\n",
        "  my_lst[2]=5\n",
        "  print(\"list after changing an element :\",my_lst)\n",
        "def immutable():\n",
        "  my_tuple=(2,4,3,6,) #tuple\n",
        "  print(\"original tuple: \",my_tuple)\n",
        "  #changing an element in list\n",
        "  try:\n",
        "    my_tuple[2]=5\n",
        "    print(\"Tuple after changing an element :\",my_tuple)\n",
        "  except:\n",
        "    print(\"Tuple is Immutable\")\n",
        "\n",
        "mutable()\n",
        "immutable()\n"
      ],
      "metadata": {
        "id": "sWiiCrZogqss"
      },
      "execution_count": null,
      "outputs": []
    },
    {
      "cell_type": "code",
      "source": [
        "#7. Write a program that performs basic arithmetic operations on two user-input numbers.\n",
        "\n",
        "num1=int(input(\"Enter the first number\"))\n",
        "num2=int(input(\"Enter the second number\"))\n",
        "print(\"Addition of two number :\",num1+num2)\n",
        "print(\"Subtraction of two number :\",num1-num2)\n",
        "print(\"Multiplication of two number :\",num1*num2)\n",
        "print(\"Division of two number :\",num1/num2)\n",
        "print(\"modulous of two number :\",num1%num2)\n",
        "print(\"Floor Division of two number :\",num1//num2)\n",
        "print(\"Exponential of two number :\",num1**num2)\n"
      ],
      "metadata": {
        "id": "pI0NrDZsg6Rb"
      },
      "execution_count": null,
      "outputs": []
    },
    {
      "cell_type": "code",
      "source": [
        "#8. Write a program to demonstrate the use of logical operators.\n",
        "\n",
        "num1=True\n",
        "num2=False\n",
        "print(\"logical Operator and :\",num1 and num2)\n",
        "print(\"logical Operator or :\",num1 or num2)\n",
        "print(\"logical Operator not :\",not num1 )\n"
      ],
      "metadata": {
        "id": "ABP4TRqXhPpa"
      },
      "execution_count": null,
      "outputs": []
    },
    {
      "cell_type": "code",
      "source": [
        "#9.  Write a Python program to convert user input from string to integer, float, and boolean types.\n",
        "\n",
        "user_input=input(\"Enter a number:\")\n",
        "print(\"User_input :\",user_input)\n",
        "if user_input.isdigit():\n",
        "  #String --> integer\n",
        "  print(\"User input in integer:\",int(user_input))\n",
        "  #String --> float\n",
        "  print(\"User input in float:\",float(user_input))\n",
        "  #String --> boolean\n",
        "  print(\"User input in boolean:\",bool(user_input))\n",
        "else:\n",
        "  print(\"Invalid Input , Enter a digit\")"
      ],
      "metadata": {
        "id": "bTHv_eyqhhWv"
      },
      "execution_count": null,
      "outputs": []
    },
    {
      "cell_type": "code",
      "source": [
        "#10. Write code to demonstrate type casting with list elements.\n",
        "\n",
        "str_list = ['1', '2', '3', '4', '5']\n",
        "#String --> integer\n",
        "integer_list = [int(element) for element in str_list]\n",
        "# Print the original and type-casted lists\n",
        "print(\"Original list (strings):\", str_list)\n",
        "print(\"Type-casted list (integers):\", integer_list)"
      ],
      "metadata": {
        "id": "GviiU2-wibgK"
      },
      "execution_count": null,
      "outputs": []
    },
    {
      "cell_type": "code",
      "source": [
        "#11.Write a program that checks if a number is positive, negative, or zero.\n",
        "\n",
        "number=int(input(\"Enter the number:\"))\n",
        "if number==0:\n",
        "  print(\"It is zero\")\n",
        "elif number>0:\n",
        "  print(\"It is a positive number\")\n",
        "else:\n",
        "  print(\"It is a negative number\")"
      ],
      "metadata": {
        "id": "3rEzH2-pidl7"
      },
      "execution_count": null,
      "outputs": []
    },
    {
      "cell_type": "code",
      "source": [
        "#12. . Write a for loop to print numbers from 1 to 10.\n",
        "\n",
        "for i in range(1,11):\n",
        "  print(i)"
      ],
      "metadata": {
        "id": "oTDcZdGdigOS"
      },
      "execution_count": null,
      "outputs": []
    },
    {
      "cell_type": "code",
      "source": [
        "#13.  Write a Python program to find the sum of all even numbers between 1 and 50.\n",
        "\n",
        "sum=0\n",
        "for i in range(1,51):\n",
        "  if i%2==0:\n",
        "    sum+=i\n",
        "print(\"Sum of all even numbers between 1 and 50:\",sum)"
      ],
      "metadata": {
        "id": "0KvZMyU5iih6"
      },
      "execution_count": null,
      "outputs": []
    },
    {
      "cell_type": "code",
      "source": [
        "#14. Write a program to reverse a string using a while loop.\n",
        "\n",
        "str=input(\"Enter the string:\")\n",
        "i=len(str)-1\n",
        "while i>=0:\n",
        "  print(str[i],end=\"\")\n",
        "  i-=1"
      ],
      "metadata": {
        "id": "sgqXQFcgileC"
      },
      "execution_count": null,
      "outputs": []
    },
    {
      "cell_type": "code",
      "source": [
        "#15.Write a Python program to calculate the factorial of a number provided by the user using a while loop.\n",
        "\n",
        "num=int(input(\"Enter the number :\"))\n",
        "i=2\n",
        "fact=1\n",
        "while i<=num:\n",
        "  fact=fact*i\n",
        "  i+=1\n",
        "print(f\"factorial of {num} is {fact}\")"
      ],
      "metadata": {
        "id": "4LqLEwQ9in37"
      },
      "execution_count": null,
      "outputs": []
    }
  ]
}